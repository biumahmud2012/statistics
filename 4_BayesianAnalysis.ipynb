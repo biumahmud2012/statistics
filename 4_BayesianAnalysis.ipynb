{
  "nbformat": 4,
  "nbformat_minor": 0,
  "metadata": {
    "kernelspec": {
      "display_name": "Python 3",
      "language": "python",
      "name": "python3"
    },
    "language_info": {
      "codemirror_mode": {
        "name": "ipython",
        "version": 3
      },
      "file_extension": ".py",
      "mimetype": "text/x-python",
      "name": "python",
      "nbconvert_exporter": "python",
      "pygments_lexer": "ipython3",
      "version": "3.6.3"
    },
    "colab": {
      "name": "4.BayesianAnalysis.ipynb",
      "provenance": [],
      "include_colab_link": true
    }
  },
  "cells": [
    {
      "cell_type": "markdown",
      "metadata": {
        "id": "view-in-github",
        "colab_type": "text"
      },
      "source": [
        "<a href=\"https://colab.research.google.com/github/biumahmud2012/statistics/blob/master/4_BayesianAnalysis.ipynb\" target=\"_parent\"><img src=\"https://colab.research.google.com/assets/colab-badge.svg\" alt=\"Open In Colab\"/></a>"
      ]
    },
    {
      "cell_type": "markdown",
      "metadata": {
        "id": "aTiKexoJF3xd"
      },
      "source": [
        "# Bayesian Analysis\n",
        "\n",
        "\n",
        "\n",
        "\n",
        "## Car accident\n",
        "\n",
        "In a city, 95% of cabs are owned by the DC Cab Company (yellow), and 5% are owned by ECO Cab (green). Recently a cab was involved in a hit-and-run accident, injuring a pedestrian. A witness saw the accident and claimed that the cab that hit the pedestrian was a ECO cab. Tests by investigators reveal that, under similar circumstances, this witness is correctly able to identify a ECO cab 90% of the time, and correctly identify a Yellow cab 85% of the time; this means she incorrectly calls a DC cab a ECO cab 15% of the time and incorrectly calls a ECO cab a DC cab 10% of the time.\n",
        "\n",
        "Should investigators pursue ECO Cab, Inc.?\n",
        "\n",
        "In general, **Bayes' Theorem** states\n",
        "\n",
        "$$P(H|D) = \\frac{P(D|H)P(H)}{P(D|H)P(H) + P(D|\\text{ not }H) P(\\text{not }H)} = \\frac{P(D|H)P(H)}{P(D)}$$\n",
        "\n",
        "Bayesian statisticians often emphasize the importance of the numerator by saying $P(H|D)$ is proportional to $P(D|H) P(H)$, or\n",
        "\n",
        "$$P(H|D) \\propto P(D|H) P(H)$$\n",
        "\n",
        "The denominator is needed only to make the right-hand side a proper probability.\n",
        "\n",
        "Let $H$ represent the event that a ECO cab hit the pedestrian, and $D$ the event that the witness claims to see a ECO cab. Let's compute the probability that, given the witness's testimony, the pedestrian was actually hit by a ECO cab."
      ]
    },
    {
      "cell_type": "code",
      "metadata": {
        "id": "YtWwBe9bF3xf",
        "outputId": "88ebac1c-a174-4e82-a711-7d423b694795",
        "colab": {
          "base_uri": "https://localhost:8080/",
          "height": 34
        }
      },
      "source": [
        "d_h = 0.9     # P(D|H): The probability the witness claims to see a ECO cab when a ECO cab hit the pedestrian\n",
        "h = 0.05      # P(H): The probability the cab was ECO, based on the proportion of ECO cabs on the streets\n",
        "d_nh = 0.1    # P(D|not H): The probability the witness claims to see a ECO cab when a DC cab hit the pedestrian\n",
        "nh = 0.95     # P(not H): The probability the cab was DC\n",
        "\n",
        "h"
      ],
      "execution_count": 1,
      "outputs": [
        {
          "output_type": "execute_result",
          "data": {
            "text/plain": [
              "0.05"
            ]
          },
          "metadata": {
            "tags": []
          },
          "execution_count": 1
        }
      ]
    },
    {
      "cell_type": "markdown",
      "metadata": {
        "id": "5i8plGrKF3xm"
      },
      "source": [
        "At the outset the probaility the cab was ECO is low given how few ECO cabs there are on the streets. How does the witness's testimony change this?"
      ]
    },
    {
      "cell_type": "code",
      "metadata": {
        "id": "IfgrZdRmF3xn",
        "outputId": "cc8a9af0-02db-4f8a-b9ad-b6a6c8bb2ae9",
        "colab": {
          "base_uri": "https://localhost:8080/",
          "height": 34
        }
      },
      "source": [
        "h_d = (d_h * h)/(d_h * h + d_nh * nh)    # Bayes theorem\n",
        "h_d"
      ],
      "execution_count": 2,
      "outputs": [
        {
          "output_type": "execute_result",
          "data": {
            "text/plain": [
              "0.32142857142857145"
            ]
          },
          "metadata": {
            "tags": []
          },
          "execution_count": 2
        }
      ]
    },
    {
      "cell_type": "markdown",
      "metadata": {
        "id": "2S4yqVQ2F3xr"
      },
      "source": [
        "While the cab was a ECO cab has increase, it's still less than 50%; the DC Cab Company is more likely to employ the driver involved in the hit-and-run! (The witness is not accurate enough to overcome how few ECO cabs there are on the streets.)"
      ]
    }
  ]
}